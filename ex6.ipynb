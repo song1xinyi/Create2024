{
 "cells": [
  {
   "cell_type": "code",
   "execution_count": 2,
   "id": "3ff05025",
   "metadata": {},
   "outputs": [
    {
     "name": "stdout",
     "output_type": "stream",
     "text": [
      "123 123.45 123.45\n",
      "<class 'int'> <class 'float'> <class 'str'>\n"
     ]
    }
   ],
   "source": [
    "x = 123\n",
    "y = 123.45\n",
    "z = '123.45'\n",
    "print(x, y, z)\n",
    "print(type(x), type(y), type(z))"
   ]
  },
  {
   "cell_type": "code",
   "execution_count": 3,
   "id": "abc1d804",
   "metadata": {},
   "outputs": [
    {
     "name": "stdout",
     "output_type": "stream",
     "text": [
      "<class 'str'>\n",
      "The result of 123+123.45=246.45\n"
     ]
    }
   ],
   "source": [
    "z = 'The result of ' + str(x) + \"+\" + str(y) + \"=\" + str(x + y)\n",
    "print(type(str(y)))\n",
    "print(z)"
   ]
  },
  {
   "cell_type": "code",
   "execution_count": null,
   "id": "4d0d9b94",
   "metadata": {},
   "outputs": [],
   "source": [
    "z = 'I am from CUC.'\n",
    "print(z[0:4])"
   ]
  },
  {
   "cell_type": "code",
   "execution_count": null,
   "id": "85fbca56",
   "metadata": {},
   "outputs": [],
   "source": [
    "print(z[0:14])\n",
    "print(z[-3:])"
   ]
  },
  {
   "cell_type": "code",
   "execution_count": null,
   "id": "8cd15709",
   "metadata": {},
   "outputs": [],
   "source": [
    "print(len(z))\n",
    "print(z[0:13])\n",
    "print(z[-2:])\n",
    "print(z[10:13])"
   ]
  },
  {
   "cell_type": "code",
   "execution_count": null,
   "id": "7ca09942",
   "metadata": {},
   "outputs": [],
   "source": [
    "famous_person = 'Princess Diana'\n",
    "print(famous_person)\n",
    "famous_person2 = famous_person.replace('Diana', 'Kate')\n",
    "print(famous_person, famous_person2)\n",
    "print(famous_person.split())"
   ]
  },
  {
   "cell_type": "code",
   "execution_count": null,
   "id": "9f753694",
   "metadata": {},
   "outputs": [],
   "source": [
    "name = 'Prince Charles'\n",
    "print(name)\n",
    "name = name.replace('Charles', 'William')\n",
    "name = name.upper()\n",
    "print(name)\n",
    "print(name.find('Charles'))\n",
    "print(name.find('WILLIAM'))"
   ]
  },
  {
   "cell_type": "code",
   "execution_count": null,
   "id": "fb03cd03",
   "metadata": {},
   "outputs": [],
   "source": [
    "x = 3.14\n",
    "y = str(x)\n",
    "print(y)\n",
    "print(type(y))"
   ]
  },
  {
   "cell_type": "code",
   "execution_count": null,
   "id": "80d555c5",
   "metadata": {},
   "outputs": [],
   "source": [
    "x = 3.14\n",
    "y = str(x)\n",
    "z1 = float(y)\n",
    "print(z1)\n",
    "z2 = int(y[0:y.find('.')])\n",
    "print(z2)\n",
    "print(type(z1), type(z2))"
   ]
  },
  {
   "cell_type": "code",
   "execution_count": 4,
   "id": "7df819e1",
   "metadata": {},
   "outputs": [
    {
     "name": "stdout",
     "output_type": "stream",
     "text": [
      "(1, 1.234, 2, 'cuc')\n",
      "[1, 1.234, 2, 'cuc']\n"
     ]
    }
   ],
   "source": [
    "tuple1 = (1, 1.23, 2, 'cuc')\n",
    "print(tuple1)\n",
    "list1 = [1, 1.23, 2, 'cuc']\n",
    "print(list1)"
   ]
  },
  {
   "cell_type": "code",
   "execution_count": null,
   "id": "ae6db100",
   "metadata": {},
   "outputs": [],
   "source": [
    "mylist = [1, 2, 3, 5, 4]\n",
    "print(sorted(mylist))"
   ]
  },
  {
   "cell_type": "code",
   "execution_count": 6,
   "id": "a9029a28",
   "metadata": {},
   "outputs": [
    {
     "name": "stdout",
     "output_type": "stream",
     "text": [
      "[1, 2, 3, 4, 5, 100]\n",
      "4\n",
      "[1, 2, 3, 4, 5, 100, 50]\n"
     ]
    }
   ],
   "source": [
    "score_list = [1, 2, 3, 4, 5, 100]\n",
    "print(score_list)\n",
    "print(score_list[3])\n",
    "score_list.append(50)\n",
    "print(score_list)"
   ]
  },
  {
   "cell_type": "code",
   "execution_count": 7,
   "id": "9186863a",
   "metadata": {},
   "outputs": [
    {
     "name": "stdout",
     "output_type": "stream",
     "text": [
      "[4, 5, 100]\n",
      "[1, 2, 3, 4, 5, 100]\n"
     ]
    }
   ],
   "source": [
    "del(score_list[-1])\n",
    "print(score_list[3:7])\n",
    "print(score_list)"
   ]
  },
  {
   "cell_type": "code",
   "execution_count": 8,
   "id": "beefcefa",
   "metadata": {},
   "outputs": [
    {
     "name": "stdout",
     "output_type": "stream",
     "text": [
      "[1, 2, 3, 4, 5, 100, [1, 2, 3, 'I am from China', True]]\n"
     ]
    }
   ],
   "source": [
    "score_list.append([1, 2, 3, 'I am from China', True])\n",
    "print(score_list)"
   ]
  },
  {
   "cell_type": "code",
   "execution_count": 9,
   "id": "d24b163c",
   "metadata": {},
   "outputs": [
    {
     "name": "stdout",
     "output_type": "stream",
     "text": [
      "[1, 2, 3, 4, 5, 100, [1, 2, 3, 'I am from China', True], [11, 22, 33, [44, 55, 66]]]\n"
     ]
    }
   ],
   "source": [
    "second_list = [11, 22, 33]\n",
    "second_list.append([44, 55, 66])\n",
    "score_list.append(second_list)\n",
    "print(score_list)"
   ]
  },
  {
   "cell_type": "code",
   "execution_count": 10,
   "id": "fc298278",
   "metadata": {},
   "outputs": [
    {
     "name": "stdout",
     "output_type": "stream",
     "text": [
      "[1, 2, 3, 4, 5, [1, 2, 3, 'I am from China', True], [11, 22, 33, [44, 55, 66]]]\n"
     ]
    }
   ],
   "source": [
    "score_list.remove(100)\n",
    "print(score_list)"
   ]
  },
  {
   "cell_type": "code",
   "execution_count": null,
   "id": "2aecb2b1",
   "metadata": {},
   "outputs": [],
   "source": [
    "dict1 = {'Peter': 80, 'David': 90, 'Mary':100}\n",
    "print(dict1)\n",
    "print(dict1.keys())\n",
    "print(dict1.values())\n",
    "print(dict1['David'])\n",
    "score_list = []\n",
    "score_list.append(dict1)\n",
    "print(score_list)"
   ]
  },
  {
   "cell_type": "code",
   "execution_count": null,
   "id": "26eed27e",
   "metadata": {},
   "outputs": [],
   "source": [
    "test1 = {'Peter': 50, 'David': 60, 'Mary': 70}\n",
    "assignment1 = {'Peter': 50, 'David': 70, 'Mary': 80}\n",
    "score_list = []\n",
    "score_list.append(test1)\n",
    "score_list.append(assignment1)\n",
    "print(score_list)"
   ]
  },
  {
   "cell_type": "code",
   "execution_count": null,
   "id": "65865320",
   "metadata": {},
   "outputs": [],
   "source": [
    "my_set = {1, 'Hello', (1, 2, 3)}\n",
    "print(my_set)\n",
    "print(type(my_set))"
   ]
  },
  {
   "cell_type": "code",
   "execution_count": null,
   "id": "79171f59",
   "metadata": {},
   "outputs": [],
   "source": [
    "my_set = {1, 2, 2, 3, 4, 4, 5}\n",
    "print(my_set)"
   ]
  },
  {
   "cell_type": "code",
   "execution_count": null,
   "id": "f418e0f2",
   "metadata": {},
   "outputs": [],
   "source": [
    "hrs_list = [30, 40, 50, 60]\n",
    "rate_list = [65, 75, 65, 75]\n",
    "name_list = ['John', 'Mike', 'Mary', 'Jane']\n",
    "fee_list = []\n",
    "for number in range(len(name_list)):\n",
    "    hrs = hrs_list[number]\n",
    "    rate = rate_list[number]\n",
    "    fee = hrs * rate\n",
    "    fee_list.append(fee)\n",
    "    money_made = name_list[number] + ' makes ' + str(fee) + '.'\n",
    "    print(money_made)"
   ]
  },
  {
   "cell_type": "code",
   "execution_count": null,
   "id": "d1f775f6",
   "metadata": {},
   "outputs": [],
   "source": [
    "money_list = []\n",
    "money_list.append(name_list)\n",
    "money_list.append(fee_list)\n",
    "print(money_list)"
   ]
  },
  {
   "cell_type": "code",
   "execution_count": null,
   "id": "d7845926",
   "metadata": {},
   "outputs": [],
   "source": [
    "my_list = ['red', 'green', 'blue', 'orange', 'black']\n",
    "index = 0\n",
    "for i in my_list:\n",
    "    if i == 'blue':\n",
    "        print(index, 'Blue is printed.')\n",
    "        index +=1\n",
    "    else:\n",
    "        print(index, my_list[index])\n",
    "        index = index + 1\n",
    "print('This is done.')"
   ]
  },
  {
   "cell_type": "code",
   "execution_count": null,
   "id": "aefc4939",
   "metadata": {},
   "outputs": [],
   "source": [
    "import pandas as pd\n",
    "df1 = pd.DataFrame({\n",
    "    #Define dataframe as a dictionary object\n",
    "    'Product ID': [1, 2, 3, 4],\n",
    "    #Add product name and color\n",
    "    'Product Name': ['T-shirt', 'Shirt', 'Jeans', 'Coat'],\n",
    "    'Color': ['Blue', 'Green', 'Red', 'Trench'],\n",
    "    'Units Sold': [250, 300, 180, 200]\n",
    "})\n",
    "print(df1)"
   ]
  }
 ],
 "metadata": {
  "kernelspec": {
   "display_name": "Python 3 (ipykernel)",
   "language": "python",
   "name": "python3"
  },
  "language_info": {
   "codemirror_mode": {
    "name": "ipython",
    "version": 3
   },
   "file_extension": ".py",
   "mimetype": "text/x-python",
   "name": "python",
   "nbconvert_exporter": "python",
   "pygments_lexer": "ipython3",
   "version": "3.11.7"
  }
 },
 "nbformat": 4,
 "nbformat_minor": 5
}
